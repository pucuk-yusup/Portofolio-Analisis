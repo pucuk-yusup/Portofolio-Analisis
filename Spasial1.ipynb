{
  "nbformat": 4,
  "nbformat_minor": 0,
  "metadata": {
    "colab": {
      "provenance": [],
      "authorship_tag": "ABX9TyNPS5iBrMFDYL1aDqU0TbOa",
      "include_colab_link": true
    },
    "kernelspec": {
      "name": "python3",
      "display_name": "Python 3"
    },
    "language_info": {
      "name": "python"
    }
  },
  "cells": [
    {
      "cell_type": "markdown",
      "metadata": {
        "id": "view-in-github",
        "colab_type": "text"
      },
      "source": [
        "<a href=\"https://colab.research.google.com/github/pucuk-yusup/Portofolio-Analisis/blob/main/Spasial1.ipynb\" target=\"_parent\"><img src=\"https://colab.research.google.com/assets/colab-badge.svg\" alt=\"Open In Colab\"/></a>"
      ]
    },
    {
      "cell_type": "code",
      "execution_count": null,
      "metadata": {
        "colab": {
          "base_uri": "https://localhost:8080/"
        },
        "id": "GcQ4HL7AdCnZ",
        "outputId": "3619ca7b-61d2-46c8-b571-579d7a83ccd9"
      },
      "outputs": [
        {
          "output_type": "stream",
          "name": "stdout",
          "text": [
            "Requirement already satisfied: geopandas in /usr/local/lib/python3.11/dist-packages (1.0.1)\n",
            "Requirement already satisfied: folium in /usr/local/lib/python3.11/dist-packages (0.19.4)\n",
            "Requirement already satisfied: numpy>=1.22 in /usr/local/lib/python3.11/dist-packages (from geopandas) (1.26.4)\n",
            "Requirement already satisfied: pyogrio>=0.7.2 in /usr/local/lib/python3.11/dist-packages (from geopandas) (0.10.0)\n",
            "Requirement already satisfied: packaging in /usr/local/lib/python3.11/dist-packages (from geopandas) (24.2)\n",
            "Requirement already satisfied: pandas>=1.4.0 in /usr/local/lib/python3.11/dist-packages (from geopandas) (2.2.2)\n",
            "Requirement already satisfied: pyproj>=3.3.0 in /usr/local/lib/python3.11/dist-packages (from geopandas) (3.7.0)\n",
            "Requirement already satisfied: shapely>=2.0.0 in /usr/local/lib/python3.11/dist-packages (from geopandas) (2.0.7)\n",
            "Requirement already satisfied: branca>=0.6.0 in /usr/local/lib/python3.11/dist-packages (from folium) (0.8.1)\n",
            "Requirement already satisfied: jinja2>=2.9 in /usr/local/lib/python3.11/dist-packages (from folium) (3.1.5)\n",
            "Requirement already satisfied: requests in /usr/local/lib/python3.11/dist-packages (from folium) (2.32.3)\n",
            "Requirement already satisfied: xyzservices in /usr/local/lib/python3.11/dist-packages (from folium) (2025.1.0)\n",
            "Requirement already satisfied: MarkupSafe>=2.0 in /usr/local/lib/python3.11/dist-packages (from jinja2>=2.9->folium) (3.0.2)\n",
            "Requirement already satisfied: python-dateutil>=2.8.2 in /usr/local/lib/python3.11/dist-packages (from pandas>=1.4.0->geopandas) (2.8.2)\n",
            "Requirement already satisfied: pytz>=2020.1 in /usr/local/lib/python3.11/dist-packages (from pandas>=1.4.0->geopandas) (2025.1)\n",
            "Requirement already satisfied: tzdata>=2022.7 in /usr/local/lib/python3.11/dist-packages (from pandas>=1.4.0->geopandas) (2025.1)\n",
            "Requirement already satisfied: certifi in /usr/local/lib/python3.11/dist-packages (from pyogrio>=0.7.2->geopandas) (2025.1.31)\n",
            "Requirement already satisfied: charset-normalizer<4,>=2 in /usr/local/lib/python3.11/dist-packages (from requests->folium) (3.4.1)\n",
            "Requirement already satisfied: idna<4,>=2.5 in /usr/local/lib/python3.11/dist-packages (from requests->folium) (3.10)\n",
            "Requirement already satisfied: urllib3<3,>=1.21.1 in /usr/local/lib/python3.11/dist-packages (from requests->folium) (2.3.0)\n",
            "Requirement already satisfied: six>=1.5 in /usr/local/lib/python3.11/dist-packages (from python-dateutil>=2.8.2->pandas>=1.4.0->geopandas) (1.17.0)\n"
          ]
        }
      ],
      "source": [
        "# Install library (jika belum ada)\n",
        "!pip install geopandas folium\n",
        "\n",
        "# Import pustaka\n",
        "import pandas as pd\n",
        "import geopandas as gpd\n",
        "import folium\n",
        "from shapely.geometry import Point\n",
        "\n",
        "# Baca dataset\n",
        "file_path = '/cities.csv'  # Sesuaikan dengan nama file kamu\n",
        "df = pd.read_csv(file_path)"
      ]
    },
    {
      "cell_type": "code",
      "source": [
        "# Pastikan dataset memiliki kolom latitude dan longitude\n",
        "print(df.head())  # Lihat isi dataset\n",
        "print(df.columns)  # Lihat nama kolom"
      ],
      "metadata": {
        "colab": {
          "base_uri": "https://localhost:8080/"
        },
        "id": "mj7PF2DTfMhJ",
        "outputId": "df92db18-4c63-4710-e4e8-28062063c03c"
      },
      "execution_count": null,
      "outputs": [
        {
          "output_type": "stream",
          "name": "stdout",
          "text": [
            "  station_id   city_name      country       state iso2 iso3   latitude  \\\n",
            "0      41515    Asadabad  Afghanistan       Kunar   AF  AFG  34.866000   \n",
            "1      38954    Fayzabad  Afghanistan  Badakhshan   AF  AFG  37.129761   \n",
            "2      41560   Jalalabad  Afghanistan   Nangarhar   AF  AFG  34.441527   \n",
            "3      38947      Kunduz  Afghanistan      Kunduz   AF  AFG  36.727951   \n",
            "4      38987  Qala i Naw  Afghanistan     Badghis   AF  AFG  34.983000   \n",
            "\n",
            "   longitude  \n",
            "0  71.150005  \n",
            "1  70.579247  \n",
            "2  70.436103  \n",
            "3  68.872530  \n",
            "4  63.133300  \n",
            "Index(['station_id', 'city_name', 'country', 'state', 'iso2', 'iso3',\n",
            "       'latitude', 'longitude'],\n",
            "      dtype='object')\n"
          ]
        }
      ]
    },
    {
      "cell_type": "code",
      "source": [
        "# Konversi dataset pandas ke GeoDataFrame (gunakan kolom latitude & longitude)\n",
        "if 'latitude' in df.columns and 'longitude' in df.columns:\n",
        "    # Buat geometry dari latitude dan longitude\n",
        "    geometry = [Point(xy) for xy in zip(df['longitude'], df['latitude'])]\n",
        "    gdf = gpd.GeoDataFrame(df, geometry=geometry)\n",
        "\n",
        "    # Tampilkan beberapa baris untuk memastikan GeoDataFrame berhasil dibuat\n",
        "    print(gdf.head())\n",
        "\n",
        "    # Buat peta dengan Folium\n",
        "    m = folium.Map(location=[df['latitude'].mean(), df['longitude'].mean()], zoom_start=6)\n",
        "\n",
        "    # Tambahkan titik-titik ke peta\n",
        "    for _, row in gdf.iterrows():\n",
        "        folium.Marker(\n",
        "            location=[row['latitude'], row['longitude']],\n",
        "            popup=row.get('name', 'Location')  # Sesuaikan popup dengan kolom yang diinginkan\n",
        "        ).add_to(m)\n",
        "\n",
        "    # Tampilkan peta\n",
        "    m.save(\"map.html\")  # Simpan peta sebagai file HTML\n",
        "    from google.colab import files\n",
        "    files.download(\"map.html\")  # Download file HTML\n",
        "else:\n",
        "    print(\"Kolom latitude dan longitude tidak ditemukan dalam dataset.\")"
      ],
      "metadata": {
        "colab": {
          "base_uri": "https://localhost:8080/",
          "height": 243
        },
        "id": "uA-Pv_McfZH1",
        "outputId": "95ca2a55-9347-4930-cd5c-fb35f3b033fb"
      },
      "execution_count": null,
      "outputs": [
        {
          "output_type": "stream",
          "name": "stdout",
          "text": [
            "  station_id   city_name      country       state iso2 iso3   latitude  \\\n",
            "0      41515    Asadabad  Afghanistan       Kunar   AF  AFG  34.866000   \n",
            "1      38954    Fayzabad  Afghanistan  Badakhshan   AF  AFG  37.129761   \n",
            "2      41560   Jalalabad  Afghanistan   Nangarhar   AF  AFG  34.441527   \n",
            "3      38947      Kunduz  Afghanistan      Kunduz   AF  AFG  36.727951   \n",
            "4      38987  Qala i Naw  Afghanistan     Badghis   AF  AFG  34.983000   \n",
            "\n",
            "   longitude                   geometry  \n",
            "0  71.150005       POINT (71.15 34.866)  \n",
            "1  70.579247  POINT (70.57925 37.12976)  \n",
            "2  70.436103   POINT (70.4361 34.44153)  \n",
            "3  68.872530  POINT (68.87253 36.72795)  \n",
            "4  63.133300     POINT (63.1333 34.983)  \n"
          ]
        },
        {
          "output_type": "display_data",
          "data": {
            "text/plain": [
              "<IPython.core.display.Javascript object>"
            ],
            "application/javascript": [
              "\n",
              "    async function download(id, filename, size) {\n",
              "      if (!google.colab.kernel.accessAllowed) {\n",
              "        return;\n",
              "      }\n",
              "      const div = document.createElement('div');\n",
              "      const label = document.createElement('label');\n",
              "      label.textContent = `Downloading \"${filename}\": `;\n",
              "      div.appendChild(label);\n",
              "      const progress = document.createElement('progress');\n",
              "      progress.max = size;\n",
              "      div.appendChild(progress);\n",
              "      document.body.appendChild(div);\n",
              "\n",
              "      const buffers = [];\n",
              "      let downloaded = 0;\n",
              "\n",
              "      const channel = await google.colab.kernel.comms.open(id);\n",
              "      // Send a message to notify the kernel that we're ready.\n",
              "      channel.send({})\n",
              "\n",
              "      for await (const message of channel.messages) {\n",
              "        // Send a message to notify the kernel that we're ready.\n",
              "        channel.send({})\n",
              "        if (message.buffers) {\n",
              "          for (const buffer of message.buffers) {\n",
              "            buffers.push(buffer);\n",
              "            downloaded += buffer.byteLength;\n",
              "            progress.value = downloaded;\n",
              "          }\n",
              "        }\n",
              "      }\n",
              "      const blob = new Blob(buffers, {type: 'application/binary'});\n",
              "      const a = document.createElement('a');\n",
              "      a.href = window.URL.createObjectURL(blob);\n",
              "      a.download = filename;\n",
              "      div.appendChild(a);\n",
              "      a.click();\n",
              "      div.remove();\n",
              "    }\n",
              "  "
            ]
          },
          "metadata": {}
        },
        {
          "output_type": "display_data",
          "data": {
            "text/plain": [
              "<IPython.core.display.Javascript object>"
            ],
            "application/javascript": [
              "download(\"download_aa661995-f7ac-47e3-ae83-6e65c1f7cee0\", \"map.html\", 935615)"
            ]
          },
          "metadata": {}
        }
      ]
    }
  ]
}