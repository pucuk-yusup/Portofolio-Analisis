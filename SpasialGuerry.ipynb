{
 "cells": [
  {
   "cell_type": "code",
   "execution_count": 6,
   "id": "48654db9-25b0-45c1-bc4d-0fcf221be0c9",
   "metadata": {},
   "outputs": [
    {
     "name": "stdout",
     "output_type": "stream",
     "text": [
      "Library geopandas sudah terinstal.\n",
      "Library libpysal sudah terinstal.\n",
      "Library esda sudah terinstal.\n",
      "Library spreg sudah terinstal.\n",
      "Library matplotlib sudah terinstal.\n",
      "Library seaborn sudah terinstal.\n",
      "Library pandas sudah terinstal.\n",
      "Library numpy sudah terinstal.\n"
     ]
    }
   ],
   "source": [
    "#cek library\n",
    "import importlib.util\n",
    "\n",
    "libraries = [\"geopandas\", \"libpysal\", \"esda\", \"spreg\", \"matplotlib\", \"seaborn\", \"pandas\", \"numpy\"]\n",
    "\n",
    "for lib in libraries:\n",
    "    if importlib.util.find_spec(lib) is None:\n",
    "        print(f\"Library {lib} belum terinstal.\")\n",
    "    else:\n",
    "        print(f\"Library {lib} sudah terinstal.\")\n"
   ]
  },
  {
   "cell_type": "code",
   "execution_count": 4,
   "id": "e73ec170-f9ea-4705-87d2-7ff47a693213",
   "metadata": {},
   "outputs": [
    {
     "name": "stdout",
     "output_type": "stream",
     "text": [
      "Collecting geopandas\n",
      "  Downloading geopandas-1.0.1-py3-none-any.whl.metadata (2.2 kB)\n",
      "Collecting libpysal\n",
      "  Downloading libpysal-4.12.1-py3-none-any.whl.metadata (4.8 kB)\n",
      "Collecting esda\n",
      "  Downloading esda-2.7.0-py3-none-any.whl.metadata (2.0 kB)\n",
      "Collecting spreg\n",
      "  Downloading spreg-1.8.2-py3-none-any.whl.metadata (1.7 kB)\n",
      "Requirement already satisfied: numpy>=1.22 in c:\\users\\acer\\anaconda3\\lib\\site-packages (from geopandas) (1.26.4)\n",
      "Collecting pyogrio>=0.7.2 (from geopandas)\n",
      "  Downloading pyogrio-0.10.0-cp312-cp312-win_amd64.whl.metadata (5.6 kB)\n",
      "Requirement already satisfied: packaging in c:\\users\\acer\\anaconda3\\lib\\site-packages (from geopandas) (24.1)\n",
      "Requirement already satisfied: pandas>=1.4.0 in c:\\users\\acer\\anaconda3\\lib\\site-packages (from geopandas) (2.2.2)\n",
      "Collecting pyproj>=3.3.0 (from geopandas)\n",
      "  Downloading pyproj-3.7.1-cp312-cp312-win_amd64.whl.metadata (31 kB)\n",
      "Collecting shapely>=2.0.0 (from geopandas)\n",
      "  Downloading shapely-2.0.7-cp312-cp312-win_amd64.whl.metadata (7.1 kB)\n",
      "Requirement already satisfied: beautifulsoup4>=4.10 in c:\\users\\acer\\anaconda3\\lib\\site-packages (from libpysal) (4.12.3)\n",
      "Requirement already satisfied: platformdirs>=2.0.2 in c:\\users\\acer\\anaconda3\\lib\\site-packages (from libpysal) (3.10.0)\n",
      "Requirement already satisfied: requests>=2.27 in c:\\users\\acer\\anaconda3\\lib\\site-packages (from libpysal) (2.32.3)\n",
      "Requirement already satisfied: scipy>=1.8 in c:\\users\\acer\\anaconda3\\lib\\site-packages (from libpysal) (1.13.1)\n",
      "Requirement already satisfied: scikit-learn>=1.1 in c:\\users\\acer\\anaconda3\\lib\\site-packages (from libpysal) (1.5.1)\n",
      "Requirement already satisfied: soupsieve>1.2 in c:\\users\\acer\\anaconda3\\lib\\site-packages (from beautifulsoup4>=4.10->libpysal) (2.5)\n",
      "Requirement already satisfied: python-dateutil>=2.8.2 in c:\\users\\acer\\anaconda3\\lib\\site-packages (from pandas>=1.4.0->geopandas) (2.9.0.post0)\n",
      "Requirement already satisfied: pytz>=2020.1 in c:\\users\\acer\\anaconda3\\lib\\site-packages (from pandas>=1.4.0->geopandas) (2024.1)\n",
      "Requirement already satisfied: tzdata>=2022.7 in c:\\users\\acer\\anaconda3\\lib\\site-packages (from pandas>=1.4.0->geopandas) (2023.3)\n",
      "Requirement already satisfied: certifi in c:\\users\\acer\\anaconda3\\lib\\site-packages (from pyogrio>=0.7.2->geopandas) (2025.1.31)\n",
      "Requirement already satisfied: charset-normalizer<4,>=2 in c:\\users\\acer\\anaconda3\\lib\\site-packages (from requests>=2.27->libpysal) (3.3.2)\n",
      "Requirement already satisfied: idna<4,>=2.5 in c:\\users\\acer\\anaconda3\\lib\\site-packages (from requests>=2.27->libpysal) (3.7)\n",
      "Requirement already satisfied: urllib3<3,>=1.21.1 in c:\\users\\acer\\anaconda3\\lib\\site-packages (from requests>=2.27->libpysal) (2.2.3)\n",
      "Requirement already satisfied: joblib>=1.2.0 in c:\\users\\acer\\anaconda3\\lib\\site-packages (from scikit-learn>=1.1->libpysal) (1.4.2)\n",
      "Requirement already satisfied: threadpoolctl>=3.1.0 in c:\\users\\acer\\anaconda3\\lib\\site-packages (from scikit-learn>=1.1->libpysal) (3.5.0)\n",
      "Requirement already satisfied: six>=1.5 in c:\\users\\acer\\anaconda3\\lib\\site-packages (from python-dateutil>=2.8.2->pandas>=1.4.0->geopandas) (1.16.0)\n",
      "Downloading geopandas-1.0.1-py3-none-any.whl (323 kB)\n",
      "Downloading libpysal-4.12.1-py3-none-any.whl (2.8 MB)\n",
      "   ---------------------------------------- 0.0/2.8 MB ? eta -:--:--\n",
      "   ------- -------------------------------- 0.5/2.8 MB 3.4 MB/s eta 0:00:01\n",
      "   ------------------ --------------------- 1.3/2.8 MB 3.4 MB/s eta 0:00:01\n",
      "   -------------------------- ------------- 1.8/2.8 MB 3.0 MB/s eta 0:00:01\n",
      "   ----------------------------- ---------- 2.1/2.8 MB 2.5 MB/s eta 0:00:01\n",
      "   ----------------------------- ---------- 2.1/2.8 MB 2.5 MB/s eta 0:00:01\n",
      "   ------------------------------------- -- 2.6/2.8 MB 2.0 MB/s eta 0:00:01\n",
      "   ---------------------------------------- 2.8/2.8 MB 2.0 MB/s eta 0:00:00\n",
      "Downloading esda-2.7.0-py3-none-any.whl (142 kB)\n",
      "Downloading spreg-1.8.2-py3-none-any.whl (388 kB)\n",
      "Downloading pyogrio-0.10.0-cp312-cp312-win_amd64.whl (16.2 MB)\n",
      "   ---------------------------------------- 0.0/16.2 MB ? eta -:--:--\n",
      "    --------------------------------------- 0.3/16.2 MB ? eta -:--:--\n",
      "   - -------------------------------------- 0.8/16.2 MB 2.4 MB/s eta 0:00:07\n",
      "   -- ------------------------------------- 1.0/16.2 MB 2.5 MB/s eta 0:00:07\n",
      "   -- ------------------------------------- 1.0/16.2 MB 2.5 MB/s eta 0:00:07\n",
      "   --- ------------------------------------ 1.3/16.2 MB 1.3 MB/s eta 0:00:12\n",
      "   ---- ----------------------------------- 1.8/16.2 MB 1.5 MB/s eta 0:00:10\n",
      "   ---- ----------------------------------- 1.8/16.2 MB 1.5 MB/s eta 0:00:10\n",
      "   ---- ----------------------------------- 1.8/16.2 MB 1.5 MB/s eta 0:00:10\n",
      "   ----- ---------------------------------- 2.1/16.2 MB 1.2 MB/s eta 0:00:12\n",
      "   ----- ---------------------------------- 2.4/16.2 MB 1.1 MB/s eta 0:00:13\n",
      "   ------ --------------------------------- 2.6/16.2 MB 1.1 MB/s eta 0:00:13\n",
      "   ------- -------------------------------- 2.9/16.2 MB 1.2 MB/s eta 0:00:12\n",
      "   -------- ------------------------------- 3.4/16.2 MB 1.2 MB/s eta 0:00:11\n",
      "   -------- ------------------------------- 3.4/16.2 MB 1.2 MB/s eta 0:00:11\n",
      "   --------- ------------------------------ 3.7/16.2 MB 1.2 MB/s eta 0:00:11\n",
      "   --------- ------------------------------ 3.9/16.2 MB 1.2 MB/s eta 0:00:11\n",
      "   ---------- ----------------------------- 4.2/16.2 MB 1.2 MB/s eta 0:00:11\n",
      "   ----------- ---------------------------- 4.5/16.2 MB 1.2 MB/s eta 0:00:10\n",
      "   ----------- ---------------------------- 4.7/16.2 MB 1.2 MB/s eta 0:00:10\n",
      "   ------------ --------------------------- 5.0/16.2 MB 1.2 MB/s eta 0:00:10\n",
      "   ------------ --------------------------- 5.2/16.2 MB 1.2 MB/s eta 0:00:09\n",
      "   ------------- -------------------------- 5.5/16.2 MB 1.2 MB/s eta 0:00:09\n",
      "   -------------- ------------------------- 5.8/16.2 MB 1.2 MB/s eta 0:00:09\n",
      "   -------------- ------------------------- 5.8/16.2 MB 1.2 MB/s eta 0:00:09\n",
      "   --------------- ------------------------ 6.3/16.2 MB 1.2 MB/s eta 0:00:09\n",
      "   --------------- ------------------------ 6.3/16.2 MB 1.2 MB/s eta 0:00:09\n",
      "   ---------------- ----------------------- 6.8/16.2 MB 1.2 MB/s eta 0:00:08\n",
      "   ----------------- ---------------------- 7.1/16.2 MB 1.2 MB/s eta 0:00:08\n",
      "   ------------------ --------------------- 7.3/16.2 MB 1.2 MB/s eta 0:00:08\n",
      "   ------------------ --------------------- 7.6/16.2 MB 1.2 MB/s eta 0:00:08\n",
      "   ------------------- -------------------- 7.9/16.2 MB 1.2 MB/s eta 0:00:07\n",
      "   -------------------- ------------------- 8.1/16.2 MB 1.2 MB/s eta 0:00:07\n",
      "   -------------------- ------------------- 8.4/16.2 MB 1.2 MB/s eta 0:00:07\n",
      "   ---------------------- ----------------- 8.9/16.2 MB 1.3 MB/s eta 0:00:06\n",
      "   ----------------------- ---------------- 9.4/16.2 MB 1.3 MB/s eta 0:00:06\n",
      "   ----------------------- ---------------- 9.4/16.2 MB 1.3 MB/s eta 0:00:06\n",
      "   ------------------------ --------------- 9.7/16.2 MB 1.3 MB/s eta 0:00:06\n",
      "   ------------------------ --------------- 10.0/16.2 MB 1.3 MB/s eta 0:00:05\n",
      "   ------------------------ --------------- 10.0/16.2 MB 1.3 MB/s eta 0:00:05\n",
      "   ------------------------- -------------- 10.5/16.2 MB 1.3 MB/s eta 0:00:05\n",
      "   ------------------------- -------------- 10.5/16.2 MB 1.3 MB/s eta 0:00:05\n",
      "   -------------------------- ------------- 10.7/16.2 MB 1.2 MB/s eta 0:00:05\n",
      "   --------------------------- ------------ 11.0/16.2 MB 1.3 MB/s eta 0:00:05\n",
      "   --------------------------- ------------ 11.3/16.2 MB 1.2 MB/s eta 0:00:04\n",
      "   ---------------------------- ----------- 11.5/16.2 MB 1.2 MB/s eta 0:00:04\n",
      "   ----------------------------- ---------- 11.8/16.2 MB 1.2 MB/s eta 0:00:04\n",
      "   ----------------------------- ---------- 12.1/16.2 MB 1.2 MB/s eta 0:00:04\n",
      "   ----------------------------- ---------- 12.1/16.2 MB 1.2 MB/s eta 0:00:04\n",
      "   ------------------------------- -------- 12.6/16.2 MB 1.2 MB/s eta 0:00:03\n",
      "   ------------------------------- -------- 12.8/16.2 MB 1.2 MB/s eta 0:00:03\n",
      "   ------------------------------- -------- 12.8/16.2 MB 1.2 MB/s eta 0:00:03\n",
      "   -------------------------------- ------- 13.1/16.2 MB 1.2 MB/s eta 0:00:03\n",
      "   -------------------------------- ------- 13.1/16.2 MB 1.2 MB/s eta 0:00:03\n",
      "   -------------------------------- ------- 13.1/16.2 MB 1.2 MB/s eta 0:00:03\n",
      "   --------------------------------- ------ 13.4/16.2 MB 1.2 MB/s eta 0:00:03\n",
      "   --------------------------------- ------ 13.6/16.2 MB 1.2 MB/s eta 0:00:03\n",
      "   --------------------------------- ------ 13.6/16.2 MB 1.2 MB/s eta 0:00:03\n",
      "   ---------------------------------- ----- 13.9/16.2 MB 1.2 MB/s eta 0:00:02\n",
      "   ----------------------------------- ---- 14.2/16.2 MB 1.2 MB/s eta 0:00:02\n",
      "   ----------------------------------- ---- 14.2/16.2 MB 1.2 MB/s eta 0:00:02\n",
      "   ----------------------------------- ---- 14.4/16.2 MB 1.1 MB/s eta 0:00:02\n",
      "   ----------------------------------- ---- 14.4/16.2 MB 1.1 MB/s eta 0:00:02\n",
      "   ------------------------------------ --- 14.9/16.2 MB 1.1 MB/s eta 0:00:02\n",
      "   ------------------------------------- -- 15.2/16.2 MB 1.1 MB/s eta 0:00:01\n",
      "   -------------------------------------- - 15.5/16.2 MB 1.1 MB/s eta 0:00:01\n",
      "   -------------------------------------- - 15.7/16.2 MB 1.2 MB/s eta 0:00:01\n",
      "   ---------------------------------------  16.0/16.2 MB 1.2 MB/s eta 0:00:01\n",
      "   ---------------------------------------  16.0/16.2 MB 1.2 MB/s eta 0:00:01\n",
      "   ---------------------------------------- 16.2/16.2 MB 1.1 MB/s eta 0:00:00\n",
      "Downloading pyproj-3.7.1-cp312-cp312-win_amd64.whl (6.3 MB)\n",
      "   ---------------------------------------- 0.0/6.3 MB ? eta -:--:--\n",
      "   - -------------------------------------- 0.3/6.3 MB ? eta -:--:--\n",
      "   - -------------------------------------- 0.3/6.3 MB ? eta -:--:--\n",
      "   ----- ---------------------------------- 0.8/6.3 MB 1.3 MB/s eta 0:00:05\n",
      "   ------ --------------------------------- 1.0/6.3 MB 1.1 MB/s eta 0:00:05\n",
      "   ------ --------------------------------- 1.0/6.3 MB 1.1 MB/s eta 0:00:05\n",
      "   -------- ------------------------------- 1.3/6.3 MB 1.1 MB/s eta 0:00:05\n",
      "   ---------- ----------------------------- 1.6/6.3 MB 1.0 MB/s eta 0:00:05\n",
      "   ----------- ---------------------------- 1.8/6.3 MB 1.1 MB/s eta 0:00:05\n",
      "   ----------- ---------------------------- 1.8/6.3 MB 1.1 MB/s eta 0:00:05\n",
      "   --------------- ------------------------ 2.4/6.3 MB 1.1 MB/s eta 0:00:04\n",
      "   --------------- ------------------------ 2.4/6.3 MB 1.1 MB/s eta 0:00:04\n",
      "   --------------- ------------------------ 2.4/6.3 MB 1.1 MB/s eta 0:00:04\n",
      "   --------------- ------------------------ 2.4/6.3 MB 1.1 MB/s eta 0:00:04\n",
      "   -------------------- ------------------- 3.1/6.3 MB 1.0 MB/s eta 0:00:04\n",
      "   ----------------------- ---------------- 3.7/6.3 MB 1.1 MB/s eta 0:00:03\n",
      "   -------------------------- ------------- 4.2/6.3 MB 1.2 MB/s eta 0:00:02\n",
      "   -------------------------- ------------- 4.2/6.3 MB 1.2 MB/s eta 0:00:02\n",
      "   -------------------------- ------------- 4.2/6.3 MB 1.2 MB/s eta 0:00:02\n",
      "   ------------------------------ --------- 4.7/6.3 MB 1.2 MB/s eta 0:00:02\n",
      "   --------------------------------- ------ 5.2/6.3 MB 1.3 MB/s eta 0:00:01\n",
      "   ----------------------------------- ---- 5.5/6.3 MB 1.2 MB/s eta 0:00:01\n",
      "   -------------------------------------- - 6.0/6.3 MB 1.3 MB/s eta 0:00:01\n",
      "   ---------------------------------------- 6.3/6.3 MB 1.3 MB/s eta 0:00:00\n",
      "Downloading shapely-2.0.7-cp312-cp312-win_amd64.whl (1.4 MB)\n",
      "   ---------------------------------------- 0.0/1.4 MB ? eta -:--:--\n",
      "   ------- -------------------------------- 0.3/1.4 MB ? eta -:--:--\n",
      "   --------------------- ------------------ 0.8/1.4 MB 2.8 MB/s eta 0:00:01\n",
      "   ------------------------------------ --- 1.3/1.4 MB 2.7 MB/s eta 0:00:01\n",
      "   ---------------------------------------- 1.4/1.4 MB 2.6 MB/s eta 0:00:00\n",
      "Installing collected packages: shapely, pyproj, pyogrio, geopandas, libpysal, spreg, esda\n",
      "Successfully installed esda-2.7.0 geopandas-1.0.1 libpysal-4.12.1 pyogrio-0.10.0 pyproj-3.7.1 shapely-2.0.7 spreg-1.8.2\n"
     ]
    }
   ],
   "source": [
    "#instal packages belum\n",
    "!pip install geopandas libpysal esda spreg\n"
   ]
  },
  {
   "cell_type": "code",
   "execution_count": 8,
   "id": "11ad7bd2-8214-4c7f-895a-54f47f2449a9",
   "metadata": {},
   "outputs": [],
   "source": [
    "#import\n",
    "import geopandas as gpd\n",
    "import numpy as np\n",
    "import pandas as pd\n",
    "import matplotlib.pyplot as plt\n",
    "import seaborn as sns\n",
    "from libpysal.examples import load_example\n",
    "from libpysal.weights import Queen\n",
    "from esda.moran import Moran\n",
    "from spreg import ML_Lag, ML_Error"
   ]
  },
  {
   "cell_type": "code",
   "execution_count": 33,
   "id": "8ed815fa-3402-4632-a286-2c028afef23a",
   "metadata": {},
   "outputs": [],
   "source": [
    "# Load dataset Guerry (bawaan dari libpysal)\n",
    "guerry = load_example(\"Guerry\")"
   ]
  },
  {
   "cell_type": "code",
   "execution_count": 25,
   "id": "d29f5e4a-73d0-4d95-bcf5-e06633d7a18e",
   "metadata": {},
   "outputs": [
    {
     "name": "stdout",
     "output_type": "stream",
     "text": [
      "Guerry.shp is not a file in this example.\n"
     ]
    },
    {
     "ename": "DataSourceError",
     "evalue": "None: No such file or directory",
     "output_type": "error",
     "traceback": [
      "\u001b[1;31m---------------------------------------------------------------------------\u001b[0m",
      "\u001b[1;31mDataSourceError\u001b[0m                           Traceback (most recent call last)",
      "Cell \u001b[1;32mIn[25], line 2\u001b[0m\n\u001b[0;32m      1\u001b[0m \u001b[38;5;66;03m# Baca file shapefile\u001b[39;00m\n\u001b[1;32m----> 2\u001b[0m gdf \u001b[38;5;241m=\u001b[39m gpd\u001b[38;5;241m.\u001b[39mread_file(guerry\u001b[38;5;241m.\u001b[39mget_path(\u001b[38;5;124m\"\u001b[39m\u001b[38;5;124mGuerry.shp\u001b[39m\u001b[38;5;124m\"\u001b[39m))\n",
      "File \u001b[1;32m~\\anaconda3\\Lib\\site-packages\\geopandas\\io\\file.py:294\u001b[0m, in \u001b[0;36m_read_file\u001b[1;34m(filename, bbox, mask, columns, rows, engine, **kwargs)\u001b[0m\n\u001b[0;32m    291\u001b[0m             from_bytes \u001b[38;5;241m=\u001b[39m \u001b[38;5;28;01mTrue\u001b[39;00m\n\u001b[0;32m    293\u001b[0m \u001b[38;5;28;01mif\u001b[39;00m engine \u001b[38;5;241m==\u001b[39m \u001b[38;5;124m\"\u001b[39m\u001b[38;5;124mpyogrio\u001b[39m\u001b[38;5;124m\"\u001b[39m:\n\u001b[1;32m--> 294\u001b[0m     \u001b[38;5;28;01mreturn\u001b[39;00m _read_file_pyogrio(\n\u001b[0;32m    295\u001b[0m         filename, bbox\u001b[38;5;241m=\u001b[39mbbox, mask\u001b[38;5;241m=\u001b[39mmask, columns\u001b[38;5;241m=\u001b[39mcolumns, rows\u001b[38;5;241m=\u001b[39mrows, \u001b[38;5;241m*\u001b[39m\u001b[38;5;241m*\u001b[39mkwargs\n\u001b[0;32m    296\u001b[0m     )\n\u001b[0;32m    298\u001b[0m \u001b[38;5;28;01melif\u001b[39;00m engine \u001b[38;5;241m==\u001b[39m \u001b[38;5;124m\"\u001b[39m\u001b[38;5;124mfiona\u001b[39m\u001b[38;5;124m\"\u001b[39m:\n\u001b[0;32m    299\u001b[0m     \u001b[38;5;28;01mif\u001b[39;00m pd\u001b[38;5;241m.\u001b[39mapi\u001b[38;5;241m.\u001b[39mtypes\u001b[38;5;241m.\u001b[39mis_file_like(filename):\n",
      "File \u001b[1;32m~\\anaconda3\\Lib\\site-packages\\geopandas\\io\\file.py:547\u001b[0m, in \u001b[0;36m_read_file_pyogrio\u001b[1;34m(path_or_bytes, bbox, mask, rows, **kwargs)\u001b[0m\n\u001b[0;32m    538\u001b[0m     warnings\u001b[38;5;241m.\u001b[39mwarn(\n\u001b[0;32m    539\u001b[0m         \u001b[38;5;124m\"\u001b[39m\u001b[38;5;124mThe \u001b[39m\u001b[38;5;124m'\u001b[39m\u001b[38;5;124minclude_fields\u001b[39m\u001b[38;5;124m'\u001b[39m\u001b[38;5;124m and \u001b[39m\u001b[38;5;124m'\u001b[39m\u001b[38;5;124mignore_fields\u001b[39m\u001b[38;5;124m'\u001b[39m\u001b[38;5;124m keywords are deprecated, and \u001b[39m\u001b[38;5;124m\"\u001b[39m\n\u001b[0;32m    540\u001b[0m         \u001b[38;5;124m\"\u001b[39m\u001b[38;5;124mwill be removed in a future release. You can use the \u001b[39m\u001b[38;5;124m'\u001b[39m\u001b[38;5;124mcolumns\u001b[39m\u001b[38;5;124m'\u001b[39m\u001b[38;5;124m keyword \u001b[39m\u001b[38;5;124m\"\u001b[39m\n\u001b[1;32m   (...)\u001b[0m\n\u001b[0;32m    543\u001b[0m         stacklevel\u001b[38;5;241m=\u001b[39m\u001b[38;5;241m3\u001b[39m,\n\u001b[0;32m    544\u001b[0m     )\n\u001b[0;32m    545\u001b[0m     kwargs[\u001b[38;5;124m\"\u001b[39m\u001b[38;5;124mcolumns\u001b[39m\u001b[38;5;124m\"\u001b[39m] \u001b[38;5;241m=\u001b[39m kwargs\u001b[38;5;241m.\u001b[39mpop(\u001b[38;5;124m\"\u001b[39m\u001b[38;5;124minclude_fields\u001b[39m\u001b[38;5;124m\"\u001b[39m)\n\u001b[1;32m--> 547\u001b[0m \u001b[38;5;28;01mreturn\u001b[39;00m pyogrio\u001b[38;5;241m.\u001b[39mread_dataframe(path_or_bytes, bbox\u001b[38;5;241m=\u001b[39mbbox, \u001b[38;5;241m*\u001b[39m\u001b[38;5;241m*\u001b[39mkwargs)\n",
      "File \u001b[1;32m~\\anaconda3\\Lib\\site-packages\\pyogrio\\geopandas.py:265\u001b[0m, in \u001b[0;36mread_dataframe\u001b[1;34m(path_or_buffer, layer, encoding, columns, read_geometry, force_2d, skip_features, max_features, where, bbox, mask, fids, sql, sql_dialect, fid_as_index, use_arrow, on_invalid, arrow_to_pandas_kwargs, **kwargs)\u001b[0m\n\u001b[0;32m    260\u001b[0m \u001b[38;5;28;01mif\u001b[39;00m \u001b[38;5;129;01mnot\u001b[39;00m use_arrow:\n\u001b[0;32m    261\u001b[0m     \u001b[38;5;66;03m# For arrow, datetimes are read as is.\u001b[39;00m\n\u001b[0;32m    262\u001b[0m     \u001b[38;5;66;03m# For numpy IO, datetimes are read as string values to preserve timezone info\u001b[39;00m\n\u001b[0;32m    263\u001b[0m     \u001b[38;5;66;03m# as numpy does not directly support timezones.\u001b[39;00m\n\u001b[0;32m    264\u001b[0m     kwargs[\u001b[38;5;124m\"\u001b[39m\u001b[38;5;124mdatetime_as_string\u001b[39m\u001b[38;5;124m\"\u001b[39m] \u001b[38;5;241m=\u001b[39m \u001b[38;5;28;01mTrue\u001b[39;00m\n\u001b[1;32m--> 265\u001b[0m result \u001b[38;5;241m=\u001b[39m read_func(\n\u001b[0;32m    266\u001b[0m     path_or_buffer,\n\u001b[0;32m    267\u001b[0m     layer\u001b[38;5;241m=\u001b[39mlayer,\n\u001b[0;32m    268\u001b[0m     encoding\u001b[38;5;241m=\u001b[39mencoding,\n\u001b[0;32m    269\u001b[0m     columns\u001b[38;5;241m=\u001b[39mcolumns,\n\u001b[0;32m    270\u001b[0m     read_geometry\u001b[38;5;241m=\u001b[39mread_geometry,\n\u001b[0;32m    271\u001b[0m     force_2d\u001b[38;5;241m=\u001b[39mgdal_force_2d,\n\u001b[0;32m    272\u001b[0m     skip_features\u001b[38;5;241m=\u001b[39mskip_features,\n\u001b[0;32m    273\u001b[0m     max_features\u001b[38;5;241m=\u001b[39mmax_features,\n\u001b[0;32m    274\u001b[0m     where\u001b[38;5;241m=\u001b[39mwhere,\n\u001b[0;32m    275\u001b[0m     bbox\u001b[38;5;241m=\u001b[39mbbox,\n\u001b[0;32m    276\u001b[0m     mask\u001b[38;5;241m=\u001b[39mmask,\n\u001b[0;32m    277\u001b[0m     fids\u001b[38;5;241m=\u001b[39mfids,\n\u001b[0;32m    278\u001b[0m     sql\u001b[38;5;241m=\u001b[39msql,\n\u001b[0;32m    279\u001b[0m     sql_dialect\u001b[38;5;241m=\u001b[39msql_dialect,\n\u001b[0;32m    280\u001b[0m     return_fids\u001b[38;5;241m=\u001b[39mfid_as_index,\n\u001b[0;32m    281\u001b[0m     \u001b[38;5;241m*\u001b[39m\u001b[38;5;241m*\u001b[39mkwargs,\n\u001b[0;32m    282\u001b[0m )\n\u001b[0;32m    284\u001b[0m \u001b[38;5;28;01mif\u001b[39;00m use_arrow:\n\u001b[0;32m    285\u001b[0m     meta, table \u001b[38;5;241m=\u001b[39m result\n",
      "File \u001b[1;32m~\\anaconda3\\Lib\\site-packages\\pyogrio\\raw.py:198\u001b[0m, in \u001b[0;36mread\u001b[1;34m(path_or_buffer, layer, encoding, columns, read_geometry, force_2d, skip_features, max_features, where, bbox, mask, fids, sql, sql_dialect, return_fids, datetime_as_string, **kwargs)\u001b[0m\n\u001b[0;32m     59\u001b[0m \u001b[38;5;250m\u001b[39m\u001b[38;5;124;03m\"\"\"Read OGR data source into numpy arrays.\u001b[39;00m\n\u001b[0;32m     60\u001b[0m \n\u001b[0;32m     61\u001b[0m \u001b[38;5;124;03mIMPORTANT: non-linear geometry types (e.g., MultiSurface) are converted\u001b[39;00m\n\u001b[1;32m   (...)\u001b[0m\n\u001b[0;32m    194\u001b[0m \n\u001b[0;32m    195\u001b[0m \u001b[38;5;124;03m\"\"\"\u001b[39;00m\n\u001b[0;32m    196\u001b[0m dataset_kwargs \u001b[38;5;241m=\u001b[39m _preprocess_options_key_value(kwargs) \u001b[38;5;28;01mif\u001b[39;00m kwargs \u001b[38;5;28;01melse\u001b[39;00m {}\n\u001b[1;32m--> 198\u001b[0m \u001b[38;5;28;01mreturn\u001b[39;00m ogr_read(\n\u001b[0;32m    199\u001b[0m     get_vsi_path_or_buffer(path_or_buffer),\n\u001b[0;32m    200\u001b[0m     layer\u001b[38;5;241m=\u001b[39mlayer,\n\u001b[0;32m    201\u001b[0m     encoding\u001b[38;5;241m=\u001b[39mencoding,\n\u001b[0;32m    202\u001b[0m     columns\u001b[38;5;241m=\u001b[39mcolumns,\n\u001b[0;32m    203\u001b[0m     read_geometry\u001b[38;5;241m=\u001b[39mread_geometry,\n\u001b[0;32m    204\u001b[0m     force_2d\u001b[38;5;241m=\u001b[39mforce_2d,\n\u001b[0;32m    205\u001b[0m     skip_features\u001b[38;5;241m=\u001b[39mskip_features,\n\u001b[0;32m    206\u001b[0m     max_features\u001b[38;5;241m=\u001b[39mmax_features \u001b[38;5;129;01mor\u001b[39;00m \u001b[38;5;241m0\u001b[39m,\n\u001b[0;32m    207\u001b[0m     where\u001b[38;5;241m=\u001b[39mwhere,\n\u001b[0;32m    208\u001b[0m     bbox\u001b[38;5;241m=\u001b[39mbbox,\n\u001b[0;32m    209\u001b[0m     mask\u001b[38;5;241m=\u001b[39m_mask_to_wkb(mask),\n\u001b[0;32m    210\u001b[0m     fids\u001b[38;5;241m=\u001b[39mfids,\n\u001b[0;32m    211\u001b[0m     sql\u001b[38;5;241m=\u001b[39msql,\n\u001b[0;32m    212\u001b[0m     sql_dialect\u001b[38;5;241m=\u001b[39msql_dialect,\n\u001b[0;32m    213\u001b[0m     return_fids\u001b[38;5;241m=\u001b[39mreturn_fids,\n\u001b[0;32m    214\u001b[0m     dataset_kwargs\u001b[38;5;241m=\u001b[39mdataset_kwargs,\n\u001b[0;32m    215\u001b[0m     datetime_as_string\u001b[38;5;241m=\u001b[39mdatetime_as_string,\n\u001b[0;32m    216\u001b[0m )\n",
      "File \u001b[1;32mpyogrio\\\\_io.pyx:1240\u001b[0m, in \u001b[0;36mpyogrio._io.ogr_read\u001b[1;34m()\u001b[0m\n",
      "File \u001b[1;32mpyogrio\\\\_io.pyx:220\u001b[0m, in \u001b[0;36mpyogrio._io.ogr_open\u001b[1;34m()\u001b[0m\n",
      "\u001b[1;31mDataSourceError\u001b[0m: None: No such file or directory"
     ]
    }
   ],
   "source": [
    "# Baca file shapefile\n",
    "gdf = gpd.read_file(guerry.get_path(\"Guerry.shp\"))"
   ]
  },
  {
   "cell_type": "code",
   "execution_count": 27,
   "id": "566699f0-0d80-4856-b150-1d71ecd633d0",
   "metadata": {},
   "outputs": [
    {
     "name": "stdout",
     "output_type": "stream",
     "text": [
      "['C:\\\\Users\\\\ACER\\\\AppData\\\\Local\\\\pysal\\\\pysal\\\\Guerry\\\\guerry\\\\guerry.dbf', 'C:\\\\Users\\\\ACER\\\\AppData\\\\Local\\\\pysal\\\\pysal\\\\Guerry\\\\guerry\\\\guerry.geojson', 'C:\\\\Users\\\\ACER\\\\AppData\\\\Local\\\\pysal\\\\pysal\\\\Guerry\\\\guerry\\\\guerry.prj', 'C:\\\\Users\\\\ACER\\\\AppData\\\\Local\\\\pysal\\\\pysal\\\\Guerry\\\\guerry\\\\guerry.shp', 'C:\\\\Users\\\\ACER\\\\AppData\\\\Local\\\\pysal\\\\pysal\\\\Guerry\\\\guerry\\\\guerry.shx', 'C:\\\\Users\\\\ACER\\\\AppData\\\\Local\\\\pysal\\\\pysal\\\\Guerry\\\\guerry\\\\Guerry_documentation.html', 'C:\\\\Users\\\\ACER\\\\AppData\\\\Local\\\\pysal\\\\pysal\\\\Guerry\\\\__MACOSX\\\\guerry\\\\._Guerry_documentation.html']\n"
     ]
    }
   ],
   "source": [
    "from libpysal.examples import load_example\n",
    "\n",
    "# Load dataset Guerry\n",
    "guerry = load_example(\"Guerry\")\n",
    "\n",
    "# Cek file apa saja yang tersedia\n",
    "print(guerry.get_file_list())"
   ]
  },
  {
   "cell_type": "code",
   "execution_count": 29,
   "id": "d9f5d926-b888-44aa-a7bf-6dfe30ab01f4",
   "metadata": {},
   "outputs": [
    {
     "name": "stdout",
     "output_type": "stream",
     "text": [
      "Guerry.shp is not a file in this example.\n"
     ]
    },
    {
     "ename": "TypeError",
     "evalue": "_path_exists: path should be string, bytes, os.PathLike or integer, not NoneType",
     "output_type": "error",
     "traceback": [
      "\u001b[1;31m---------------------------------------------------------------------------\u001b[0m",
      "\u001b[1;31mTypeError\u001b[0m                                 Traceback (most recent call last)",
      "Cell \u001b[1;32mIn[29], line 6\u001b[0m\n\u001b[0;32m      3\u001b[0m shp_path \u001b[38;5;241m=\u001b[39m guerry\u001b[38;5;241m.\u001b[39mget_path(\u001b[38;5;124m\"\u001b[39m\u001b[38;5;124mGuerry.shp\u001b[39m\u001b[38;5;124m\"\u001b[39m)\n\u001b[0;32m      5\u001b[0m \u001b[38;5;66;03m# Cek apakah file benar-benar ada di path tersebut\u001b[39;00m\n\u001b[1;32m----> 6\u001b[0m \u001b[38;5;28mprint\u001b[39m(\u001b[38;5;124m\"\u001b[39m\u001b[38;5;124mFile ditemukan:\u001b[39m\u001b[38;5;124m\"\u001b[39m, os\u001b[38;5;241m.\u001b[39mpath\u001b[38;5;241m.\u001b[39mexists(shp_path))\n\u001b[0;32m      7\u001b[0m \u001b[38;5;28mprint\u001b[39m(\u001b[38;5;124m\"\u001b[39m\u001b[38;5;124mPath file:\u001b[39m\u001b[38;5;124m\"\u001b[39m, shp_path)\n",
      "\u001b[1;31mTypeError\u001b[0m: _path_exists: path should be string, bytes, os.PathLike or integer, not NoneType"
     ]
    }
   ],
   "source": [
    "import os\n",
    "\n",
    "shp_path = guerry.get_path(\"Guerry.shp\")\n",
    "\n",
    "# Cek apakah file benar-benar ada di path tersebut\n",
    "print(\"File ditemukan:\", os.path.exists(shp_path))\n",
    "print(\"Path file:\", shp_path)"
   ]
  },
  {
   "cell_type": "code",
   "execution_count": 37,
   "id": "e0c746cc-ca96-401e-b034-37b51f192c0d",
   "metadata": {},
   "outputs": [
    {
     "name": "stdout",
     "output_type": "stream",
     "text": [
      "Guerry.geojson is not a file in this example.\n"
     ]
    },
    {
     "ename": "DataSourceError",
     "evalue": "None: No such file or directory",
     "output_type": "error",
     "traceback": [
      "\u001b[1;31m---------------------------------------------------------------------------\u001b[0m",
      "\u001b[1;31mDataSourceError\u001b[0m                           Traceback (most recent call last)",
      "Cell \u001b[1;32mIn[37], line 4\u001b[0m\n\u001b[0;32m      1\u001b[0m \u001b[38;5;28;01mimport\u001b[39;00m \u001b[38;5;21;01mgeopandas\u001b[39;00m \u001b[38;5;28;01mas\u001b[39;00m \u001b[38;5;21;01mgpd\u001b[39;00m\n\u001b[0;32m      3\u001b[0m \u001b[38;5;66;03m# Coba baca file GeoJSON sebagai alternatif\u001b[39;00m\n\u001b[1;32m----> 4\u001b[0m gdf \u001b[38;5;241m=\u001b[39m gpd\u001b[38;5;241m.\u001b[39mread_file(guerry\u001b[38;5;241m.\u001b[39mget_path(\u001b[38;5;124m\"\u001b[39m\u001b[38;5;124mGuerry.geojson\u001b[39m\u001b[38;5;124m\"\u001b[39m))\n\u001b[0;32m      6\u001b[0m \u001b[38;5;66;03m# Cek data\u001b[39;00m\n\u001b[0;32m      7\u001b[0m \u001b[38;5;28mprint\u001b[39m(gdf\u001b[38;5;241m.\u001b[39mhead())\n",
      "File \u001b[1;32m~\\anaconda3\\Lib\\site-packages\\geopandas\\io\\file.py:294\u001b[0m, in \u001b[0;36m_read_file\u001b[1;34m(filename, bbox, mask, columns, rows, engine, **kwargs)\u001b[0m\n\u001b[0;32m    291\u001b[0m             from_bytes \u001b[38;5;241m=\u001b[39m \u001b[38;5;28;01mTrue\u001b[39;00m\n\u001b[0;32m    293\u001b[0m \u001b[38;5;28;01mif\u001b[39;00m engine \u001b[38;5;241m==\u001b[39m \u001b[38;5;124m\"\u001b[39m\u001b[38;5;124mpyogrio\u001b[39m\u001b[38;5;124m\"\u001b[39m:\n\u001b[1;32m--> 294\u001b[0m     \u001b[38;5;28;01mreturn\u001b[39;00m _read_file_pyogrio(\n\u001b[0;32m    295\u001b[0m         filename, bbox\u001b[38;5;241m=\u001b[39mbbox, mask\u001b[38;5;241m=\u001b[39mmask, columns\u001b[38;5;241m=\u001b[39mcolumns, rows\u001b[38;5;241m=\u001b[39mrows, \u001b[38;5;241m*\u001b[39m\u001b[38;5;241m*\u001b[39mkwargs\n\u001b[0;32m    296\u001b[0m     )\n\u001b[0;32m    298\u001b[0m \u001b[38;5;28;01melif\u001b[39;00m engine \u001b[38;5;241m==\u001b[39m \u001b[38;5;124m\"\u001b[39m\u001b[38;5;124mfiona\u001b[39m\u001b[38;5;124m\"\u001b[39m:\n\u001b[0;32m    299\u001b[0m     \u001b[38;5;28;01mif\u001b[39;00m pd\u001b[38;5;241m.\u001b[39mapi\u001b[38;5;241m.\u001b[39mtypes\u001b[38;5;241m.\u001b[39mis_file_like(filename):\n",
      "File \u001b[1;32m~\\anaconda3\\Lib\\site-packages\\geopandas\\io\\file.py:547\u001b[0m, in \u001b[0;36m_read_file_pyogrio\u001b[1;34m(path_or_bytes, bbox, mask, rows, **kwargs)\u001b[0m\n\u001b[0;32m    538\u001b[0m     warnings\u001b[38;5;241m.\u001b[39mwarn(\n\u001b[0;32m    539\u001b[0m         \u001b[38;5;124m\"\u001b[39m\u001b[38;5;124mThe \u001b[39m\u001b[38;5;124m'\u001b[39m\u001b[38;5;124minclude_fields\u001b[39m\u001b[38;5;124m'\u001b[39m\u001b[38;5;124m and \u001b[39m\u001b[38;5;124m'\u001b[39m\u001b[38;5;124mignore_fields\u001b[39m\u001b[38;5;124m'\u001b[39m\u001b[38;5;124m keywords are deprecated, and \u001b[39m\u001b[38;5;124m\"\u001b[39m\n\u001b[0;32m    540\u001b[0m         \u001b[38;5;124m\"\u001b[39m\u001b[38;5;124mwill be removed in a future release. You can use the \u001b[39m\u001b[38;5;124m'\u001b[39m\u001b[38;5;124mcolumns\u001b[39m\u001b[38;5;124m'\u001b[39m\u001b[38;5;124m keyword \u001b[39m\u001b[38;5;124m\"\u001b[39m\n\u001b[1;32m   (...)\u001b[0m\n\u001b[0;32m    543\u001b[0m         stacklevel\u001b[38;5;241m=\u001b[39m\u001b[38;5;241m3\u001b[39m,\n\u001b[0;32m    544\u001b[0m     )\n\u001b[0;32m    545\u001b[0m     kwargs[\u001b[38;5;124m\"\u001b[39m\u001b[38;5;124mcolumns\u001b[39m\u001b[38;5;124m\"\u001b[39m] \u001b[38;5;241m=\u001b[39m kwargs\u001b[38;5;241m.\u001b[39mpop(\u001b[38;5;124m\"\u001b[39m\u001b[38;5;124minclude_fields\u001b[39m\u001b[38;5;124m\"\u001b[39m)\n\u001b[1;32m--> 547\u001b[0m \u001b[38;5;28;01mreturn\u001b[39;00m pyogrio\u001b[38;5;241m.\u001b[39mread_dataframe(path_or_bytes, bbox\u001b[38;5;241m=\u001b[39mbbox, \u001b[38;5;241m*\u001b[39m\u001b[38;5;241m*\u001b[39mkwargs)\n",
      "File \u001b[1;32m~\\anaconda3\\Lib\\site-packages\\pyogrio\\geopandas.py:265\u001b[0m, in \u001b[0;36mread_dataframe\u001b[1;34m(path_or_buffer, layer, encoding, columns, read_geometry, force_2d, skip_features, max_features, where, bbox, mask, fids, sql, sql_dialect, fid_as_index, use_arrow, on_invalid, arrow_to_pandas_kwargs, **kwargs)\u001b[0m\n\u001b[0;32m    260\u001b[0m \u001b[38;5;28;01mif\u001b[39;00m \u001b[38;5;129;01mnot\u001b[39;00m use_arrow:\n\u001b[0;32m    261\u001b[0m     \u001b[38;5;66;03m# For arrow, datetimes are read as is.\u001b[39;00m\n\u001b[0;32m    262\u001b[0m     \u001b[38;5;66;03m# For numpy IO, datetimes are read as string values to preserve timezone info\u001b[39;00m\n\u001b[0;32m    263\u001b[0m     \u001b[38;5;66;03m# as numpy does not directly support timezones.\u001b[39;00m\n\u001b[0;32m    264\u001b[0m     kwargs[\u001b[38;5;124m\"\u001b[39m\u001b[38;5;124mdatetime_as_string\u001b[39m\u001b[38;5;124m\"\u001b[39m] \u001b[38;5;241m=\u001b[39m \u001b[38;5;28;01mTrue\u001b[39;00m\n\u001b[1;32m--> 265\u001b[0m result \u001b[38;5;241m=\u001b[39m read_func(\n\u001b[0;32m    266\u001b[0m     path_or_buffer,\n\u001b[0;32m    267\u001b[0m     layer\u001b[38;5;241m=\u001b[39mlayer,\n\u001b[0;32m    268\u001b[0m     encoding\u001b[38;5;241m=\u001b[39mencoding,\n\u001b[0;32m    269\u001b[0m     columns\u001b[38;5;241m=\u001b[39mcolumns,\n\u001b[0;32m    270\u001b[0m     read_geometry\u001b[38;5;241m=\u001b[39mread_geometry,\n\u001b[0;32m    271\u001b[0m     force_2d\u001b[38;5;241m=\u001b[39mgdal_force_2d,\n\u001b[0;32m    272\u001b[0m     skip_features\u001b[38;5;241m=\u001b[39mskip_features,\n\u001b[0;32m    273\u001b[0m     max_features\u001b[38;5;241m=\u001b[39mmax_features,\n\u001b[0;32m    274\u001b[0m     where\u001b[38;5;241m=\u001b[39mwhere,\n\u001b[0;32m    275\u001b[0m     bbox\u001b[38;5;241m=\u001b[39mbbox,\n\u001b[0;32m    276\u001b[0m     mask\u001b[38;5;241m=\u001b[39mmask,\n\u001b[0;32m    277\u001b[0m     fids\u001b[38;5;241m=\u001b[39mfids,\n\u001b[0;32m    278\u001b[0m     sql\u001b[38;5;241m=\u001b[39msql,\n\u001b[0;32m    279\u001b[0m     sql_dialect\u001b[38;5;241m=\u001b[39msql_dialect,\n\u001b[0;32m    280\u001b[0m     return_fids\u001b[38;5;241m=\u001b[39mfid_as_index,\n\u001b[0;32m    281\u001b[0m     \u001b[38;5;241m*\u001b[39m\u001b[38;5;241m*\u001b[39mkwargs,\n\u001b[0;32m    282\u001b[0m )\n\u001b[0;32m    284\u001b[0m \u001b[38;5;28;01mif\u001b[39;00m use_arrow:\n\u001b[0;32m    285\u001b[0m     meta, table \u001b[38;5;241m=\u001b[39m result\n",
      "File \u001b[1;32m~\\anaconda3\\Lib\\site-packages\\pyogrio\\raw.py:198\u001b[0m, in \u001b[0;36mread\u001b[1;34m(path_or_buffer, layer, encoding, columns, read_geometry, force_2d, skip_features, max_features, where, bbox, mask, fids, sql, sql_dialect, return_fids, datetime_as_string, **kwargs)\u001b[0m\n\u001b[0;32m     59\u001b[0m \u001b[38;5;250m\u001b[39m\u001b[38;5;124;03m\"\"\"Read OGR data source into numpy arrays.\u001b[39;00m\n\u001b[0;32m     60\u001b[0m \n\u001b[0;32m     61\u001b[0m \u001b[38;5;124;03mIMPORTANT: non-linear geometry types (e.g., MultiSurface) are converted\u001b[39;00m\n\u001b[1;32m   (...)\u001b[0m\n\u001b[0;32m    194\u001b[0m \n\u001b[0;32m    195\u001b[0m \u001b[38;5;124;03m\"\"\"\u001b[39;00m\n\u001b[0;32m    196\u001b[0m dataset_kwargs \u001b[38;5;241m=\u001b[39m _preprocess_options_key_value(kwargs) \u001b[38;5;28;01mif\u001b[39;00m kwargs \u001b[38;5;28;01melse\u001b[39;00m {}\n\u001b[1;32m--> 198\u001b[0m \u001b[38;5;28;01mreturn\u001b[39;00m ogr_read(\n\u001b[0;32m    199\u001b[0m     get_vsi_path_or_buffer(path_or_buffer),\n\u001b[0;32m    200\u001b[0m     layer\u001b[38;5;241m=\u001b[39mlayer,\n\u001b[0;32m    201\u001b[0m     encoding\u001b[38;5;241m=\u001b[39mencoding,\n\u001b[0;32m    202\u001b[0m     columns\u001b[38;5;241m=\u001b[39mcolumns,\n\u001b[0;32m    203\u001b[0m     read_geometry\u001b[38;5;241m=\u001b[39mread_geometry,\n\u001b[0;32m    204\u001b[0m     force_2d\u001b[38;5;241m=\u001b[39mforce_2d,\n\u001b[0;32m    205\u001b[0m     skip_features\u001b[38;5;241m=\u001b[39mskip_features,\n\u001b[0;32m    206\u001b[0m     max_features\u001b[38;5;241m=\u001b[39mmax_features \u001b[38;5;129;01mor\u001b[39;00m \u001b[38;5;241m0\u001b[39m,\n\u001b[0;32m    207\u001b[0m     where\u001b[38;5;241m=\u001b[39mwhere,\n\u001b[0;32m    208\u001b[0m     bbox\u001b[38;5;241m=\u001b[39mbbox,\n\u001b[0;32m    209\u001b[0m     mask\u001b[38;5;241m=\u001b[39m_mask_to_wkb(mask),\n\u001b[0;32m    210\u001b[0m     fids\u001b[38;5;241m=\u001b[39mfids,\n\u001b[0;32m    211\u001b[0m     sql\u001b[38;5;241m=\u001b[39msql,\n\u001b[0;32m    212\u001b[0m     sql_dialect\u001b[38;5;241m=\u001b[39msql_dialect,\n\u001b[0;32m    213\u001b[0m     return_fids\u001b[38;5;241m=\u001b[39mreturn_fids,\n\u001b[0;32m    214\u001b[0m     dataset_kwargs\u001b[38;5;241m=\u001b[39mdataset_kwargs,\n\u001b[0;32m    215\u001b[0m     datetime_as_string\u001b[38;5;241m=\u001b[39mdatetime_as_string,\n\u001b[0;32m    216\u001b[0m )\n",
      "File \u001b[1;32mpyogrio\\\\_io.pyx:1240\u001b[0m, in \u001b[0;36mpyogrio._io.ogr_read\u001b[1;34m()\u001b[0m\n",
      "File \u001b[1;32mpyogrio\\\\_io.pyx:220\u001b[0m, in \u001b[0;36mpyogrio._io.ogr_open\u001b[1;34m()\u001b[0m\n",
      "\u001b[1;31mDataSourceError\u001b[0m: None: No such file or directory"
     ]
    }
   ],
   "source": [
    "import geopandas as gpd\n",
    "\n",
    "# Coba baca file GeoJSON sebagai alternatif\n",
    "gdf = gpd.read_file(guerry.get_path(\"Guerry.geojson\"))\n",
    "\n",
    "# Cek data\n",
    "print(gdf.head())\n",
    "\n",
    "# Plot peta\n",
    "gdf.plot(column=\"Crm_prs\", cmap=\"coolwarm\", legend=True, figsize=(10, 6))\n",
    "plt.title(\"Peta Distribusi Kriminalitas di Prancis (Guerry Dataset)\")\n",
    "plt.show()"
   ]
  },
  {
   "cell_type": "code",
   "execution_count": null,
   "id": "696b3ce2-af38-441c-9835-f4590a7ff814",
   "metadata": {},
   "outputs": [],
   "source": []
  }
 ],
 "metadata": {
  "kernelspec": {
   "display_name": "Python [conda env:base] *",
   "language": "python",
   "name": "conda-base-py"
  },
  "language_info": {
   "codemirror_mode": {
    "name": "ipython",
    "version": 3
   },
   "file_extension": ".py",
   "mimetype": "text/x-python",
   "name": "python",
   "nbconvert_exporter": "python",
   "pygments_lexer": "ipython3",
   "version": "3.12.7"
  }
 },
 "nbformat": 4,
 "nbformat_minor": 5
}
