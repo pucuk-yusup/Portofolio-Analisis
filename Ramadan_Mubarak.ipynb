{
  "nbformat": 4,
  "nbformat_minor": 0,
  "metadata": {
    "colab": {
      "provenance": [],
      "authorship_tag": "ABX9TyNe6EuR7zRNSUeqh05ofBm4",
      "include_colab_link": true
    },
    "kernelspec": {
      "name": "python3",
      "display_name": "Python 3"
    },
    "language_info": {
      "name": "python"
    }
  },
  "cells": [
    {
      "cell_type": "markdown",
      "metadata": {
        "id": "view-in-github",
        "colab_type": "text"
      },
      "source": [
        "<a href=\"https://colab.research.google.com/github/pucuk-yusup/Portofolio-Analisis/blob/main/Ramadan_Mubarak.ipynb\" target=\"_parent\"><img src=\"https://colab.research.google.com/assets/colab-badge.svg\" alt=\"Open In Colab\"/></a>"
      ]
    },
    {
      "cell_type": "code",
      "execution_count": null,
      "metadata": {
        "colab": {
          "base_uri": "https://localhost:8080/"
        },
        "id": "_tOZECv8NMGF",
        "outputId": "85b8309e-3f21-4dff-9377-31ab2264a27b"
      },
      "outputs": [
        {
          "output_type": "stream",
          "name": "stdout",
          "text": [
            "Eid Mubarak! May peace and blessings be upon you and your family.\n"
          ]
        }
      ],
      "source": [
        "#Random Ucapan Lebaran Generator\n",
        "import random\n",
        "\n",
        "ucapan = [\n",
        "    \"Taqabbalallahu minna wa minkum. Mohon maaf lahir dan batin.\",\n",
        "    \"Semoga kita kembali fitri dan penuh berkah di hari yang suci ini.\",\n",
        "    \"Selamat Hari Raya Idul Fitri! Maafkan segala khilaf yaa~\",\n",
        "    \"Eid Mubarak! May peace and blessings be upon you and your family.\"\n",
        "]\n",
        "\n",
        "print(random.choice(ucapan))\n"
      ]
    },
    {
      "cell_type": "code",
      "source": [
        "#Hitung Mundur Hari Lebaran\n",
        "from datetime import datetime\n",
        "\n",
        "lebaran = datetime(2025, 3, 31)  # contoh asumsi\n",
        "hari_ini = datetime.now()\n",
        "selisih = lebaran - hari_ini\n",
        "\n",
        "print(f\"Lebaran tinggal {selisih.days} hari lagi 🎉\")"
      ],
      "metadata": {
        "colab": {
          "base_uri": "https://localhost:8080/"
        },
        "id": "FUATvwocNkKi",
        "outputId": "2a8cc4fc-93b6-4e7c-f2a0-677c6f587f9f"
      },
      "execution_count": null,
      "outputs": [
        {
          "output_type": "stream",
          "name": "stdout",
          "text": [
            "Lebaran tinggal 3 hari lagi 🎉\n"
          ]
        }
      ]
    },
    {
      "cell_type": "code",
      "source": [
        "#Simulasi THR\n",
        "import random\n",
        "\n",
        "keluarga = ['Ayah', 'Ibu', 'Adik', 'Nenek', 'Kakek']\n",
        "thr_total = 2000000\n",
        "\n",
        "pembagian = {orang: random.randint(200000, 500000) for orang in keluarga}\n",
        "for orang, jumlah in pembagian.items():\n",
        "    print(f\"{orang} mendapat THR: Rp{jumlah:,}\")\n"
      ],
      "metadata": {
        "colab": {
          "base_uri": "https://localhost:8080/"
        },
        "id": "MDoFyz0COEID",
        "outputId": "f963fd01-49f5-46fe-dfbf-1fc735a55b00"
      },
      "execution_count": null,
      "outputs": [
        {
          "output_type": "stream",
          "name": "stdout",
          "text": [
            "Ayah mendapat THR: Rp335,208\n",
            "Ibu mendapat THR: Rp499,859\n",
            "Adik mendapat THR: Rp417,917\n",
            "Nenek mendapat THR: Rp253,107\n",
            "Kakek mendapat THR: Rp289,600\n"
          ]
        }
      ]
    },
    {
      "cell_type": "code",
      "source": [
        "!pip install pyfiglet termcolor"
      ],
      "metadata": {
        "colab": {
          "base_uri": "https://localhost:8080/"
        },
        "id": "_Z6-G8ZfP_vL",
        "outputId": "c8f9f546-8cbe-44a7-91dc-1bff0dbf6d68"
      },
      "execution_count": null,
      "outputs": [
        {
          "output_type": "stream",
          "name": "stdout",
          "text": [
            "Collecting pyfiglet\n",
            "  Downloading pyfiglet-1.0.2-py3-none-any.whl.metadata (7.1 kB)\n",
            "Requirement already satisfied: termcolor in /usr/local/lib/python3.11/dist-packages (2.5.0)\n",
            "Downloading pyfiglet-1.0.2-py3-none-any.whl (1.1 MB)\n",
            "\u001b[2K   \u001b[90m━━━━━━━━━━━━━━━━━━━━━━━━━━━━━━━━━━━━━━━━\u001b[0m \u001b[32m1.1/1.1 MB\u001b[0m \u001b[31m12.0 MB/s\u001b[0m eta \u001b[36m0:00:00\u001b[0m\n",
            "\u001b[?25hInstalling collected packages: pyfiglet\n",
            "Successfully installed pyfiglet-1.0.2\n"
          ]
        }
      ]
    },
    {
      "cell_type": "code",
      "source": [
        "import pyfiglet\n",
        "from termcolor import colored\n",
        "\n",
        "def wish_eid():\n",
        "    eid_message = pyfiglet.figlet_format(\"Eid Mubarak!\")\n",
        "\n",
        "    # Bikin warna gradient manual (ganti tiap baris biar estetik)\n",
        "    lines = eid_message.split('\\n')\n",
        "    colors = ['cyan', 'green', 'yellow', 'magenta', 'blue', 'red']\n",
        "\n",
        "    for i, line in enumerate(lines):\n",
        "        if line.strip() != \"\":\n",
        "            color = colors[i % len(colors)]\n",
        "            print(colored(line, color=color, attrs=['bold']))\n",
        "\n",
        "wish_eid()"
      ],
      "metadata": {
        "colab": {
          "base_uri": "https://localhost:8080/"
        },
        "id": "Oy_rKfWQQDgW",
        "outputId": "3e12bfd9-c825-4e3a-e9a1-3a6619d844d2"
      },
      "execution_count": null,
      "outputs": [
        {
          "output_type": "stream",
          "name": "stdout",
          "text": [
            " _____ _     _   __  __       _                     _    _ \n",
            "| ____(_) __| | |  \\/  |_   _| |__   __ _ _ __ __ _| | _| |\n",
            "|  _| | |/ _` | | |\\/| | | | | '_ \\ / _` | '__/ _` | |/ / |\n",
            "| |___| | (_| | | |  | | |_| | |_) | (_| | | | (_| |   <|_|\n",
            "|_____|_|\\__,_| |_|  |_|\\__,_|_.__/ \\__,_|_|  \\__,_|_|\\_(_)\n"
          ]
        }
      ]
    },
    {
      "cell_type": "code",
      "source": [
        "import pyfiglet\n",
        "from termcolor import colored\n",
        "import time\n",
        "import os\n",
        "\n",
        "def wish_eid():\n",
        "    eid_message = pyfiglet.figlet_format(\"Eid Mubarak!\")  # Bisa diganti teks-nya\n",
        "    lines = eid_message.split('\\n')\n",
        "    colors = ['cyan', 'green', 'yellow', 'magenta', 'blue', 'red']\n",
        "\n",
        "    os.system('cls' if os.name == 'nt' else 'clear')  # Clear terminal biar bersih\n",
        "\n",
        "    for i, line in enumerate(lines):\n",
        "        if line.strip():\n",
        "            color = colors[i % len(colors)]\n",
        "            print(colored(line, color=color, attrs=['bold']))\n",
        "            time.sleep(0.05)  # Tambahin delay buat efek animasi\n",
        "\n",
        "wish_eid()"
      ],
      "metadata": {
        "colab": {
          "base_uri": "https://localhost:8080/"
        },
        "id": "mxvuVhXGRFtV",
        "outputId": "c7ba90d5-06e7-4a1f-8ef5-8303e6e1c0c7"
      },
      "execution_count": null,
      "outputs": [
        {
          "output_type": "stream",
          "name": "stdout",
          "text": [
            " _____ _     _   __  __       _                     _    _ \n",
            "| ____(_) __| | |  \\/  |_   _| |__   __ _ _ __ __ _| | _| |\n",
            "|  _| | |/ _` | | |\\/| | | | | '_ \\ / _` | '__/ _` | |/ / |\n",
            "| |___| | (_| | | |  | | |_| | |_) | (_| | | | (_| |   <|_|\n",
            "|_____|_|\\__,_| |_|  |_|\\__,_|_.__/ \\__,_|_|  \\__,_|_|\\_(_)\n"
          ]
        }
      ]
    },
    {
      "cell_type": "code",
      "source": [
        "print(colored(\"\\nTaqabbalallahu minna wa minkum 💫\", \"white\", attrs=[\"bold\"]))\n",
        "print(colored(\"Selamat Hari Raya Idul Fitri 1446 H 🌙✨\", \"yellow\", attrs=[\"bold\"]))"
      ],
      "metadata": {
        "colab": {
          "base_uri": "https://localhost:8080/"
        },
        "id": "GoCk5F0gRPHY",
        "outputId": "b2ecf572-70a5-4201-9a7c-de9510497765"
      },
      "execution_count": null,
      "outputs": [
        {
          "output_type": "stream",
          "name": "stdout",
          "text": [
            "\n",
            "Taqabbalallahu minna wa minkum 💫\n",
            "Selamat Hari Raya Idul Fitri 1446 H 🌙✨\n"
          ]
        }
      ]
    },
    {
      "cell_type": "code",
      "source": [
        "import matplotlib.pyplot as plt\n",
        "import imageio\n",
        "import os\n",
        "\n",
        "# Manual ASCII lines (mirip pyfiglet output untuk \"Eid Mubarakaan!\")\n",
        "ascii_art = [\n",
        "    \"  ______ _     _       _            _                     _              \",\n",
        "    \" |  ____(_)   | |     | |          | |                   | |             \",\n",
        "    \" | |__   _  __| | __ _| | ___   ___| |__   ___   __ _  __| | ___  _ __   \",\n",
        "    \" |  __| | |/ _` |/ _` | |/ _ \\\\ / __| '_ \\\\ / _ \\\\ / _` |/ _` |/ _ \\\\| '_ \\\\  \",\n",
        "    \" | |    | | (_| | (_| | | (_) | (__| | | | (_) | (_| | (_| | (_) | | | | \",\n",
        "    \" |_|    |_|\\\\__,_|\\\\__,_|_|\\\\___/ \\\\___|_| |_|\\\\___/ \\\\__,_|\\\\__,_|\\\\___/|_| |_| \",\n",
        "    \"                                                                         \",\n",
        "    \"                       Eid Mubarakaan! 🌙✨                               \"\n",
        "]\n",
        "\n",
        "# Colors to cycle through\n",
        "colors = ['cyan', 'lime', 'gold', 'magenta', 'deepskyblue', 'tomato']\n",
        "\n",
        "# Output dir\n",
        "output_dir = \"/mnt/data/eid_gif_frames_v2\"\n",
        "os.makedirs(output_dir, exist_ok=True)\n",
        "\n",
        "# Create frames\n",
        "filenames = []\n",
        "for i, line in enumerate(ascii_art):\n",
        "    fig, ax = plt.subplots(figsize=(14, 2))\n",
        "    ax.axis('off')\n",
        "    color = colors[i % len(colors)]\n",
        "    ax.text(0.5, 0.5, line, fontsize=16, ha='center', va='center',\n",
        "            color=color, family='monospace')\n",
        "    filename = os.path.join(output_dir, f\"frame_{i:02}.png\")\n",
        "    plt.savefig(filename, bbox_inches='tight', pad_inches=0.1, facecolor='black')\n",
        "    plt.close()\n",
        "    filenames.append(filename)\n",
        "\n",
        "# Create GIF\n",
        "gif_path = \"/mnt/data/eid_mubarakaan_final.gif\"\n",
        "with imageio.get_writer(gif_path, mode='I', duration=0.25) as writer:\n",
        "    for filename in filenames:\n",
        "        image = imageio.imread(filename)\n",
        "        writer.append_data(image)\n",
        "\n",
        "gif_path\n"
      ],
      "metadata": {
        "colab": {
          "base_uri": "https://localhost:8080/",
          "height": 159
        },
        "id": "d6Cy8C6kSsu9",
        "outputId": "dc8af511-b38c-46d4-baa7-be7914278ad5"
      },
      "execution_count": null,
      "outputs": [
        {
          "output_type": "stream",
          "name": "stderr",
          "text": [
            "<ipython-input-9-7b2201395430>:33: UserWarning: Glyph 127769 (\\N{CRESCENT MOON}) missing from font(s) DejaVu Sans Mono.\n",
            "  plt.savefig(filename, bbox_inches='tight', pad_inches=0.1, facecolor='black')\n",
            "<ipython-input-9-7b2201395430>:33: UserWarning: Glyph 10024 (\\N{SPARKLES}) missing from font(s) DejaVu Sans Mono.\n",
            "  plt.savefig(filename, bbox_inches='tight', pad_inches=0.1, facecolor='black')\n",
            "<ipython-input-9-7b2201395430>:41: DeprecationWarning: Starting with ImageIO v3 the behavior of this function will switch to that of iio.v3.imread. To keep the current behavior (and make this warning disappear) use `import imageio.v2 as imageio` or call `imageio.v2.imread` directly.\n",
            "  image = imageio.imread(filename)\n"
          ]
        },
        {
          "output_type": "execute_result",
          "data": {
            "text/plain": [
              "'/mnt/data/eid_mubarakaan_final.gif'"
            ],
            "application/vnd.google.colaboratory.intrinsic+json": {
              "type": "string"
            }
          },
          "metadata": {},
          "execution_count": 9
        }
      ]
    },
    {
      "cell_type": "code",
      "source": [
        "# Update the last line to say \"Eid Mubarak\" instead of \"Eid Mubarakaan!\"\n",
        "ascii_art[-1] = \"                       Eid Mubarak 🌙✨                               \"\n",
        "\n",
        "# Recreate frames with updated text\n",
        "filenames = []\n",
        "for i, line in enumerate(ascii_art):\n",
        "    fig, ax = plt.subplots(figsize=(14, 2))\n",
        "    ax.axis('off')\n",
        "    color = colors[i % len(colors)]\n",
        "    ax.text(0.5, 0.5, line, fontsize=16, ha='center', va='center',\n",
        "            color=color, family='monospace')\n",
        "    filename = os.path.join(output_dir, f\"frame_{i:02}.png\")\n",
        "    plt.savefig(filename, bbox_inches='tight', pad_inches=0.1, facecolor='black')\n",
        "    plt.close()\n",
        "    filenames.append(filename)\n",
        "\n",
        "# Create updated GIF\n",
        "updated_gif_path = \"/mnt/data/eid_mubarak_final_fixed.gif\"\n",
        "with imageio.get_writer(updated_gif_path, mode='I', duration=0.25) as writer:\n",
        "    for filename in filenames:\n",
        "        image = imageio.imread(filename)\n",
        "        writer.append_data(image)\n",
        "\n",
        "updated_gif_path\n"
      ],
      "metadata": {
        "colab": {
          "base_uri": "https://localhost:8080/",
          "height": 159
        },
        "id": "EaCOIdAvS9Z5",
        "outputId": "818d1269-48e8-4623-bb2f-0fe3f3868a47"
      },
      "execution_count": null,
      "outputs": [
        {
          "output_type": "stream",
          "name": "stderr",
          "text": [
            "<ipython-input-10-e138f9030e7b>:13: UserWarning: Glyph 127769 (\\N{CRESCENT MOON}) missing from font(s) DejaVu Sans Mono.\n",
            "  plt.savefig(filename, bbox_inches='tight', pad_inches=0.1, facecolor='black')\n",
            "<ipython-input-10-e138f9030e7b>:13: UserWarning: Glyph 10024 (\\N{SPARKLES}) missing from font(s) DejaVu Sans Mono.\n",
            "  plt.savefig(filename, bbox_inches='tight', pad_inches=0.1, facecolor='black')\n",
            "<ipython-input-10-e138f9030e7b>:21: DeprecationWarning: Starting with ImageIO v3 the behavior of this function will switch to that of iio.v3.imread. To keep the current behavior (and make this warning disappear) use `import imageio.v2 as imageio` or call `imageio.v2.imread` directly.\n",
            "  image = imageio.imread(filename)\n"
          ]
        },
        {
          "output_type": "execute_result",
          "data": {
            "text/plain": [
              "'/mnt/data/eid_mubarak_final_fixed.gif'"
            ],
            "application/vnd.google.colaboratory.intrinsic+json": {
              "type": "string"
            }
          },
          "metadata": {},
          "execution_count": 10
        }
      ]
    },
    {
      "cell_type": "code",
      "source": [
        "from IPython.display import Image\n",
        "\n",
        "Image(filename=\"/mnt/data/eid_mubarak_final_fixed.gif\")\n"
      ],
      "metadata": {
        "colab": {
          "base_uri": "https://localhost:8080/",
          "height": 191
        },
        "id": "TAurty82TXjm",
        "outputId": "a2d2cb5f-69f0-4527-b415-d541b269a38b"
      },
      "execution_count": null,
      "outputs": [
        {
          "output_type": "execute_result",
          "data": {
            "image/gif": "[encoded data removed]",
            "text/plain": [
              "<IPython.core.display.Image object>"
            ]
          },
          "metadata": {},
          "execution_count": 11
        }
      ]
    }
  ]
}